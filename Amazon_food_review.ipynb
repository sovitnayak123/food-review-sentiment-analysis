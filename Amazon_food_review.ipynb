{
 "cells": [
  {
   "cell_type": "code",
   "execution_count": 1,
   "id": "4f12139e-2964-4016-8663-fcae2f4cbe72",
   "metadata": {},
   "outputs": [
    {
     "name": "stdout",
     "output_type": "stream",
     "text": [
      "Collecting package metadata (current_repodata.json): done\n",
      "Solving environment: done\n",
      "\n",
      "# All requested packages already installed.\n",
      "\n",
      "Retrieving notices: ...working... done\n",
      "\n",
      "Note: you may need to restart the kernel to use updated packages.\n"
     ]
    }
   ],
   "source": [
    "conda install pytorch torchvision -c pytorch"
   ]
  },
  {
   "cell_type": "code",
   "execution_count": 3,
   "id": "243f6b07-238b-478f-9305-7d5b13bc3b7c",
   "metadata": {},
   "outputs": [
    {
     "name": "stdout",
     "output_type": "stream",
     "text": [
      "Requirement already satisfied: accelerate in /Users/sovitnayak/opt/anaconda3/lib/python3.9/site-packages (0.27.2)\n",
      "Requirement already satisfied: psutil in /Users/sovitnayak/opt/anaconda3/lib/python3.9/site-packages (from accelerate) (5.8.0)\n",
      "Requirement already satisfied: huggingface-hub in /Users/sovitnayak/opt/anaconda3/lib/python3.9/site-packages (from accelerate) (0.21.4)\n",
      "Requirement already satisfied: pyyaml in /Users/sovitnayak/opt/anaconda3/lib/python3.9/site-packages (from accelerate) (6.0)\n",
      "Requirement already satisfied: torch>=1.10.0 in /Users/sovitnayak/opt/anaconda3/lib/python3.9/site-packages (from accelerate) (2.2.1)\n",
      "Requirement already satisfied: safetensors>=0.3.1 in /Users/sovitnayak/opt/anaconda3/lib/python3.9/site-packages (from accelerate) (0.4.2)\n",
      "Requirement already satisfied: numpy>=1.17 in /Users/sovitnayak/opt/anaconda3/lib/python3.9/site-packages (from accelerate) (1.21.5)\n",
      "Requirement already satisfied: packaging>=20.0 in /Users/sovitnayak/opt/anaconda3/lib/python3.9/site-packages (from accelerate) (21.3)\n",
      "Requirement already satisfied: pyparsing!=3.0.5,>=2.0.2 in /Users/sovitnayak/opt/anaconda3/lib/python3.9/site-packages (from packaging>=20.0->accelerate) (3.0.4)\n",
      "Requirement already satisfied: filelock in /Users/sovitnayak/opt/anaconda3/lib/python3.9/site-packages (from torch>=1.10.0->accelerate) (3.6.0)\n",
      "Requirement already satisfied: typing-extensions>=4.8.0 in /Users/sovitnayak/opt/anaconda3/lib/python3.9/site-packages (from torch>=1.10.0->accelerate) (4.10.0)\n",
      "Requirement already satisfied: sympy in /Users/sovitnayak/opt/anaconda3/lib/python3.9/site-packages (from torch>=1.10.0->accelerate) (1.10.1)\n",
      "Requirement already satisfied: networkx in /Users/sovitnayak/opt/anaconda3/lib/python3.9/site-packages (from torch>=1.10.0->accelerate) (2.7.1)\n",
      "Requirement already satisfied: jinja2 in /Users/sovitnayak/opt/anaconda3/lib/python3.9/site-packages (from torch>=1.10.0->accelerate) (2.11.3)\n",
      "Requirement already satisfied: fsspec in /Users/sovitnayak/opt/anaconda3/lib/python3.9/site-packages (from torch>=1.10.0->accelerate) (2024.2.0)\n",
      "Requirement already satisfied: requests in /Users/sovitnayak/opt/anaconda3/lib/python3.9/site-packages (from huggingface-hub->accelerate) (2.27.1)\n",
      "Requirement already satisfied: tqdm>=4.42.1 in /Users/sovitnayak/opt/anaconda3/lib/python3.9/site-packages (from huggingface-hub->accelerate) (4.64.0)\n",
      "Requirement already satisfied: MarkupSafe>=0.23 in /Users/sovitnayak/opt/anaconda3/lib/python3.9/site-packages (from jinja2->torch>=1.10.0->accelerate) (2.0.1)\n",
      "Requirement already satisfied: idna<4,>=2.5 in /Users/sovitnayak/opt/anaconda3/lib/python3.9/site-packages (from requests->huggingface-hub->accelerate) (3.3)\n",
      "Requirement already satisfied: urllib3<1.27,>=1.21.1 in /Users/sovitnayak/opt/anaconda3/lib/python3.9/site-packages (from requests->huggingface-hub->accelerate) (1.26.9)\n",
      "Requirement already satisfied: certifi>=2017.4.17 in /Users/sovitnayak/opt/anaconda3/lib/python3.9/site-packages (from requests->huggingface-hub->accelerate) (2024.2.2)\n",
      "Requirement already satisfied: charset-normalizer~=2.0.0 in /Users/sovitnayak/opt/anaconda3/lib/python3.9/site-packages (from requests->huggingface-hub->accelerate) (2.0.4)\n",
      "Requirement already satisfied: mpmath>=0.19 in /Users/sovitnayak/opt/anaconda3/lib/python3.9/site-packages (from sympy->torch>=1.10.0->accelerate) (1.2.1)\n",
      "Note: you may need to restart the kernel to use updated packages.\n"
     ]
    }
   ],
   "source": [
    "pip install -U accelerate"
   ]
  },
  {
   "cell_type": "code",
   "execution_count": null,
   "id": "76be23b0-82c2-4ef5-b9b1-94aaab123624",
   "metadata": {},
   "outputs": [],
   "source": [
    "pip install -U accelerate"
   ]
  },
  {
   "cell_type": "code",
   "execution_count": 2,
   "id": "1b801080-3ce5-4766-9ce4-c157feedc7b4",
   "metadata": {},
   "outputs": [
    {
     "name": "stdout",
     "output_type": "stream",
     "text": [
      "tensor([[0.6334, 0.4272, 0.1034],\n",
      "        [0.4800, 0.1044, 0.1973],\n",
      "        [0.3809, 0.8292, 0.6432],\n",
      "        [0.1883, 0.3760, 0.0610],\n",
      "        [0.0417, 0.6634, 0.1002]])\n"
     ]
    }
   ],
   "source": [
    "import torch\n",
    "x = torch.rand(5, 3)\n",
    "print(x)"
   ]
  },
  {
   "cell_type": "code",
   "execution_count": 3,
   "id": "01e1723c-39e3-429f-b330-42c87c1a6a85",
   "metadata": {},
   "outputs": [
    {
     "name": "stdout",
     "output_type": "stream",
     "text": [
      "Requirement already satisfied: transformers[torch] in /Users/sovitnayak/opt/anaconda3/lib/python3.9/site-packages (4.38.2)\n",
      "Requirement already satisfied: regex!=2019.12.17 in /Users/sovitnayak/opt/anaconda3/lib/python3.9/site-packages (from transformers[torch]) (2022.3.15)\n",
      "Requirement already satisfied: filelock in /Users/sovitnayak/opt/anaconda3/lib/python3.9/site-packages (from transformers[torch]) (3.6.0)\n",
      "Requirement already satisfied: numpy>=1.17 in /Users/sovitnayak/opt/anaconda3/lib/python3.9/site-packages (from transformers[torch]) (1.21.5)\n",
      "Requirement already satisfied: packaging>=20.0 in /Users/sovitnayak/opt/anaconda3/lib/python3.9/site-packages (from transformers[torch]) (21.3)\n",
      "Requirement already satisfied: requests in /Users/sovitnayak/opt/anaconda3/lib/python3.9/site-packages (from transformers[torch]) (2.27.1)\n",
      "Requirement already satisfied: pyyaml>=5.1 in /Users/sovitnayak/opt/anaconda3/lib/python3.9/site-packages (from transformers[torch]) (6.0)\n",
      "Requirement already satisfied: tokenizers<0.19,>=0.14 in /Users/sovitnayak/opt/anaconda3/lib/python3.9/site-packages (from transformers[torch]) (0.15.2)\n",
      "Requirement already satisfied: tqdm>=4.27 in /Users/sovitnayak/opt/anaconda3/lib/python3.9/site-packages (from transformers[torch]) (4.64.0)\n",
      "Requirement already satisfied: safetensors>=0.4.1 in /Users/sovitnayak/opt/anaconda3/lib/python3.9/site-packages (from transformers[torch]) (0.4.2)\n",
      "Requirement already satisfied: huggingface-hub<1.0,>=0.19.3 in /Users/sovitnayak/opt/anaconda3/lib/python3.9/site-packages (from transformers[torch]) (0.21.4)\n",
      "Requirement already satisfied: torch in /Users/sovitnayak/opt/anaconda3/lib/python3.9/site-packages (from transformers[torch]) (2.2.1)\n",
      "Requirement already satisfied: accelerate>=0.21.0 in /Users/sovitnayak/opt/anaconda3/lib/python3.9/site-packages (from transformers[torch]) (0.27.2)\n",
      "Requirement already satisfied: psutil in /Users/sovitnayak/opt/anaconda3/lib/python3.9/site-packages (from accelerate>=0.21.0->transformers[torch]) (5.8.0)\n",
      "Requirement already satisfied: fsspec>=2023.5.0 in /Users/sovitnayak/opt/anaconda3/lib/python3.9/site-packages (from huggingface-hub<1.0,>=0.19.3->transformers[torch]) (2024.2.0)\n",
      "Requirement already satisfied: typing-extensions>=3.7.4.3 in /Users/sovitnayak/opt/anaconda3/lib/python3.9/site-packages (from huggingface-hub<1.0,>=0.19.3->transformers[torch]) (4.10.0)\n",
      "Requirement already satisfied: pyparsing!=3.0.5,>=2.0.2 in /Users/sovitnayak/opt/anaconda3/lib/python3.9/site-packages (from packaging>=20.0->transformers[torch]) (3.0.4)\n",
      "Requirement already satisfied: sympy in /Users/sovitnayak/opt/anaconda3/lib/python3.9/site-packages (from torch->transformers[torch]) (1.10.1)\n",
      "Requirement already satisfied: networkx in /Users/sovitnayak/opt/anaconda3/lib/python3.9/site-packages (from torch->transformers[torch]) (2.7.1)\n",
      "Requirement already satisfied: jinja2 in /Users/sovitnayak/opt/anaconda3/lib/python3.9/site-packages (from torch->transformers[torch]) (2.11.3)\n",
      "Requirement already satisfied: MarkupSafe>=0.23 in /Users/sovitnayak/opt/anaconda3/lib/python3.9/site-packages (from jinja2->torch->transformers[torch]) (2.0.1)\n",
      "Requirement already satisfied: charset-normalizer~=2.0.0 in /Users/sovitnayak/opt/anaconda3/lib/python3.9/site-packages (from requests->transformers[torch]) (2.0.4)\n",
      "Requirement already satisfied: idna<4,>=2.5 in /Users/sovitnayak/opt/anaconda3/lib/python3.9/site-packages (from requests->transformers[torch]) (3.3)\n",
      "Requirement already satisfied: urllib3<1.27,>=1.21.1 in /Users/sovitnayak/opt/anaconda3/lib/python3.9/site-packages (from requests->transformers[torch]) (1.26.9)\n",
      "Requirement already satisfied: certifi>=2017.4.17 in /Users/sovitnayak/opt/anaconda3/lib/python3.9/site-packages (from requests->transformers[torch]) (2024.2.2)\n",
      "Requirement already satisfied: mpmath>=0.19 in /Users/sovitnayak/opt/anaconda3/lib/python3.9/site-packages (from sympy->torch->transformers[torch]) (1.2.1)\n",
      "Note: you may need to restart the kernel to use updated packages.\n"
     ]
    }
   ],
   "source": [
    "pip install 'transformers[torch]'"
   ]
  },
  {
   "cell_type": "code",
   "execution_count": 4,
   "id": "d0932ea9-6055-461a-8eb8-55a3f045d8e1",
   "metadata": {},
   "outputs": [
    {
     "ename": "SyntaxError",
     "evalue": "invalid syntax (3136999189.py, line 1)",
     "output_type": "error",
     "traceback": [
      "\u001b[0;36m  Input \u001b[0;32mIn [4]\u001b[0;36m\u001b[0m\n\u001b[0;31m    python -c \"from transformers import pipeline; print(pipeline('sentiment-analysis')('we love you'))\"\u001b[0m\n\u001b[0m              ^\u001b[0m\n\u001b[0;31mSyntaxError\u001b[0m\u001b[0;31m:\u001b[0m invalid syntax\n"
     ]
    }
   ],
   "source": [
    "python -c \"from transformers import pipeline; print(pipeline('sentiment-analysis')('we love you'))\""
   ]
  },
  {
   "cell_type": "code",
   "execution_count": null,
   "id": "0d318751-3dd2-4d52-a18f-50fd07aaeb74",
   "metadata": {},
   "outputs": [],
   "source": [
    "[{'label': 'POSITIVE', 'score': 0.9998704791069031}]"
   ]
  },
  {
   "cell_type": "code",
   "execution_count": null,
   "id": "165b5d16-52d3-4ce7-85e2-71b749985e9b",
   "metadata": {},
   "outputs": [],
   "source": [
    "pip install git+https://github.com/huggingface/transformers"
   ]
  },
  {
   "cell_type": "code",
   "execution_count": null,
   "id": "241642b9-dc98-4a1f-8036-8bf604ee283b",
   "metadata": {},
   "outputs": [],
   "source": [
    "python -c \"from transformers import pipeline; print(pipeline('sentiment-analysis')('I love you'))\""
   ]
  },
  {
   "cell_type": "code",
   "execution_count": 2,
   "id": "3cf9dea6-0629-40e3-a650-aa6ecd7fc161",
   "metadata": {},
   "outputs": [],
   "source": [
    "import pandas as pd\n",
    "import numpy as np\n",
    "import matplotlib.pyplot as plt\n",
    "import seaborn as sns\n",
    "\n",
    "plt.style.use(\"ggplot\")\n",
    "\n",
    "import nltk"
   ]
  },
  {
   "cell_type": "code",
   "execution_count": 3,
   "id": "0ab6474f-7867-4506-82fc-8bbccbf7bba6",
   "metadata": {},
   "outputs": [],
   "source": [
    "df = pd.read_csv(\"/Users/sovitnayak/Documents/amazon/Reviews.csv\")"
   ]
  },
  {
   "cell_type": "code",
   "execution_count": 4,
   "id": "54065ae1-c76b-4044-8ba1-39d932161e96",
   "metadata": {},
   "outputs": [
    {
     "data": {
      "text/html": [
       "<div>\n",
       "<style scoped>\n",
       "    .dataframe tbody tr th:only-of-type {\n",
       "        vertical-align: middle;\n",
       "    }\n",
       "\n",
       "    .dataframe tbody tr th {\n",
       "        vertical-align: top;\n",
       "    }\n",
       "\n",
       "    .dataframe thead th {\n",
       "        text-align: right;\n",
       "    }\n",
       "</style>\n",
       "<table border=\"1\" class=\"dataframe\">\n",
       "  <thead>\n",
       "    <tr style=\"text-align: right;\">\n",
       "      <th></th>\n",
       "      <th>Id</th>\n",
       "      <th>ProductId</th>\n",
       "      <th>UserId</th>\n",
       "      <th>ProfileName</th>\n",
       "      <th>HelpfulnessNumerator</th>\n",
       "      <th>HelpfulnessDenominator</th>\n",
       "      <th>Score</th>\n",
       "      <th>Time</th>\n",
       "      <th>Summary</th>\n",
       "      <th>Text</th>\n",
       "    </tr>\n",
       "  </thead>\n",
       "  <tbody>\n",
       "    <tr>\n",
       "      <th>0</th>\n",
       "      <td>1</td>\n",
       "      <td>B001E4KFG0</td>\n",
       "      <td>A3SGXH7AUHU8GW</td>\n",
       "      <td>delmartian</td>\n",
       "      <td>1</td>\n",
       "      <td>1</td>\n",
       "      <td>5</td>\n",
       "      <td>1303862400</td>\n",
       "      <td>Good Quality Dog Food</td>\n",
       "      <td>I have bought several of the Vitality canned d...</td>\n",
       "    </tr>\n",
       "    <tr>\n",
       "      <th>1</th>\n",
       "      <td>2</td>\n",
       "      <td>B00813GRG4</td>\n",
       "      <td>A1D87F6ZCVE5NK</td>\n",
       "      <td>dll pa</td>\n",
       "      <td>0</td>\n",
       "      <td>0</td>\n",
       "      <td>1</td>\n",
       "      <td>1346976000</td>\n",
       "      <td>Not as Advertised</td>\n",
       "      <td>Product arrived labeled as Jumbo Salted Peanut...</td>\n",
       "    </tr>\n",
       "    <tr>\n",
       "      <th>2</th>\n",
       "      <td>3</td>\n",
       "      <td>B000LQOCH0</td>\n",
       "      <td>ABXLMWJIXXAIN</td>\n",
       "      <td>Natalia Corres \"Natalia Corres\"</td>\n",
       "      <td>1</td>\n",
       "      <td>1</td>\n",
       "      <td>4</td>\n",
       "      <td>1219017600</td>\n",
       "      <td>\"Delight\" says it all</td>\n",
       "      <td>This is a confection that has been around a fe...</td>\n",
       "    </tr>\n",
       "    <tr>\n",
       "      <th>3</th>\n",
       "      <td>4</td>\n",
       "      <td>B000UA0QIQ</td>\n",
       "      <td>A395BORC6FGVXV</td>\n",
       "      <td>Karl</td>\n",
       "      <td>3</td>\n",
       "      <td>3</td>\n",
       "      <td>2</td>\n",
       "      <td>1307923200</td>\n",
       "      <td>Cough Medicine</td>\n",
       "      <td>If you are looking for the secret ingredient i...</td>\n",
       "    </tr>\n",
       "    <tr>\n",
       "      <th>4</th>\n",
       "      <td>5</td>\n",
       "      <td>B006K2ZZ7K</td>\n",
       "      <td>A1UQRSCLF8GW1T</td>\n",
       "      <td>Michael D. Bigham \"M. Wassir\"</td>\n",
       "      <td>0</td>\n",
       "      <td>0</td>\n",
       "      <td>5</td>\n",
       "      <td>1350777600</td>\n",
       "      <td>Great taffy</td>\n",
       "      <td>Great taffy at a great price.  There was a wid...</td>\n",
       "    </tr>\n",
       "  </tbody>\n",
       "</table>\n",
       "</div>"
      ],
      "text/plain": [
       "   Id   ProductId          UserId                      ProfileName  \\\n",
       "0   1  B001E4KFG0  A3SGXH7AUHU8GW                       delmartian   \n",
       "1   2  B00813GRG4  A1D87F6ZCVE5NK                           dll pa   \n",
       "2   3  B000LQOCH0   ABXLMWJIXXAIN  Natalia Corres \"Natalia Corres\"   \n",
       "3   4  B000UA0QIQ  A395BORC6FGVXV                             Karl   \n",
       "4   5  B006K2ZZ7K  A1UQRSCLF8GW1T    Michael D. Bigham \"M. Wassir\"   \n",
       "\n",
       "   HelpfulnessNumerator  HelpfulnessDenominator  Score        Time  \\\n",
       "0                     1                       1      5  1303862400   \n",
       "1                     0                       0      1  1346976000   \n",
       "2                     1                       1      4  1219017600   \n",
       "3                     3                       3      2  1307923200   \n",
       "4                     0                       0      5  1350777600   \n",
       "\n",
       "                 Summary                                               Text  \n",
       "0  Good Quality Dog Food  I have bought several of the Vitality canned d...  \n",
       "1      Not as Advertised  Product arrived labeled as Jumbo Salted Peanut...  \n",
       "2  \"Delight\" says it all  This is a confection that has been around a fe...  \n",
       "3         Cough Medicine  If you are looking for the secret ingredient i...  \n",
       "4            Great taffy  Great taffy at a great price.  There was a wid...  "
      ]
     },
     "execution_count": 4,
     "metadata": {},
     "output_type": "execute_result"
    }
   ],
   "source": [
    "df = df.head(500)\n",
    "df.head()"
   ]
  },
  {
   "cell_type": "code",
   "execution_count": 5,
   "id": "d21e4459-6bb5-4215-b70e-4ae6b4e47223",
   "metadata": {},
   "outputs": [
    {
     "data": {
      "text/plain": [
       "\"This oatmeal is not good. Its mushy, soft, I don't like it. Quaker Oats is the way to go.\""
      ]
     },
     "execution_count": 5,
     "metadata": {},
     "output_type": "execute_result"
    }
   ],
   "source": [
    "df['Text'].values[50]"
   ]
  },
  {
   "cell_type": "code",
   "execution_count": 6,
   "id": "8e11dfcd-41dc-4ceb-b24c-137594685aef",
   "metadata": {},
   "outputs": [
    {
     "name": "stdout",
     "output_type": "stream",
     "text": [
      "(500, 10)\n"
     ]
    }
   ],
   "source": [
    "print(df.shape)"
   ]
  },
  {
   "cell_type": "code",
   "execution_count": 7,
   "id": "627a2d35-70e5-438d-a7e4-ed72d57eae91",
   "metadata": {},
   "outputs": [
    {
     "data": {
      "image/png": "[encoded data removed]",
      "text/plain": [
       "<Figure size 360x720 with 1 Axes>"
      ]
     },
     "metadata": {},
     "output_type": "display_data"
    }
   ],
   "source": [
    "ax = df['Score'].value_counts().sort_index() \\\n",
    "     .plot(kind='bar',\n",
    "           title=\"Review counts by stars\",\n",
    "           figsize=(5,10))\n",
    "ax.set_xlabel(\"Review stars\")      \n",
    "plt.show()"
   ]
  },
  {
   "cell_type": "code",
   "execution_count": 8,
   "id": "3cdfaa9d-e027-46ec-ba27-8a255d64165f",
   "metadata": {},
   "outputs": [
    {
     "name": "stdout",
     "output_type": "stream",
     "text": [
      "This oatmeal is not good. Its mushy, soft, I don't like it. Quaker Oats is the way to go.\n"
     ]
    }
   ],
   "source": [
    "example = df['Text'][50]\n",
    "print(example)"
   ]
  },
  {
   "cell_type": "code",
   "execution_count": 9,
   "id": "95049f53-2ad7-490e-a073-75219a07fcf1",
   "metadata": {},
   "outputs": [
    {
     "data": {
      "text/plain": [
       "['This', 'oatmeal', 'is', 'not', 'good', '.', 'Its', 'mushy', ',', 'soft']"
      ]
     },
     "execution_count": 9,
     "metadata": {},
     "output_type": "execute_result"
    }
   ],
   "source": [
    "tokens = nltk.word_tokenize(example)\n",
    "tokens[:10]"
   ]
  },
  {
   "cell_type": "code",
   "execution_count": 10,
   "id": "64a67fa1-4b63-47fe-b35c-41c9e52800ca",
   "metadata": {},
   "outputs": [
    {
     "data": {
      "text/plain": [
       "[('This', 'DT'),\n",
       " ('oatmeal', 'NN'),\n",
       " ('is', 'VBZ'),\n",
       " ('not', 'RB'),\n",
       " ('good', 'JJ'),\n",
       " ('.', '.'),\n",
       " ('Its', 'PRP$'),\n",
       " ('mushy', 'NN'),\n",
       " (',', ','),\n",
       " ('soft', 'JJ')]"
      ]
     },
     "execution_count": 10,
     "metadata": {},
     "output_type": "execute_result"
    }
   ],
   "source": [
    "tagged = nltk.pos_tag(tokens)\n",
    "tagged[:10]"
   ]
  },
  {
   "cell_type": "code",
   "execution_count": 11,
   "id": "1e57ac7a-3e07-4a90-9152-f245ec8b838e",
   "metadata": {},
   "outputs": [
    {
     "name": "stdout",
     "output_type": "stream",
     "text": [
      "(S\n",
      "  This/DT\n",
      "  oatmeal/NN\n",
      "  is/VBZ\n",
      "  not/RB\n",
      "  good/JJ\n",
      "  ./.\n",
      "  Its/PRP$\n",
      "  mushy/NN\n",
      "  ,/,\n",
      "  soft/JJ\n",
      "  ,/,\n",
      "  I/PRP\n",
      "  do/VBP\n",
      "  n't/RB\n",
      "  like/VB\n",
      "  it/PRP\n",
      "  ./.\n",
      "  (ORGANIZATION Quaker/NNP Oats/NNPS)\n",
      "  is/VBZ\n",
      "  the/DT\n",
      "  way/NN\n",
      "  to/TO\n",
      "  go/VB\n",
      "  ./.)\n"
     ]
    }
   ],
   "source": [
    "entities = nltk.chunk.ne_chunk(tagged)\n",
    "entities.pprint()"
   ]
  },
  {
   "cell_type": "code",
   "execution_count": 12,
   "id": "96e02712-2bba-4696-bea0-5464aa40e909",
   "metadata": {},
   "outputs": [],
   "source": [
    "from nltk.sentiment import SentimentIntensityAnalyzer\n",
    "from tqdm.notebook import tqdm\n",
    "\n",
    "sia = SentimentIntensityAnalyzer()"
   ]
  },
  {
   "cell_type": "code",
   "execution_count": 13,
   "id": "5b5175df-07a4-4320-b903-c7c306b45549",
   "metadata": {},
   "outputs": [
    {
     "data": {
      "text/plain": [
       "<nltk.sentiment.vader.SentimentIntensityAnalyzer at 0x7fdaa5dbeb50>"
      ]
     },
     "execution_count": 13,
     "metadata": {},
     "output_type": "execute_result"
    }
   ],
   "source": [
    "sia"
   ]
  },
  {
   "cell_type": "code",
   "execution_count": 14,
   "id": "44f1b19c-a88a-4762-8218-1ee2fa618603",
   "metadata": {},
   "outputs": [
    {
     "data": {
      "text/plain": [
       "{'neg': 0.6, 'neu': 0.4, 'pos': 0.0, 'compound': -0.4585}"
      ]
     },
     "execution_count": 14,
     "metadata": {},
     "output_type": "execute_result"
    }
   ],
   "source": [
    "sia.polarity_scores(\"I am not happy\")"
   ]
  },
  {
   "cell_type": "code",
   "execution_count": 15,
   "id": "4ed0e69e-815a-416b-9aed-cfa6516dff59",
   "metadata": {},
   "outputs": [
    {
     "data": {
      "text/plain": [
       "{'neg': 0.0, 'neu': 0.334, 'pos': 0.666, 'compound': 0.6115}"
      ]
     },
     "execution_count": 15,
     "metadata": {},
     "output_type": "execute_result"
    }
   ],
   "source": [
    "sia.polarity_scores(\"I am very happy\")"
   ]
  },
  {
   "cell_type": "code",
   "execution_count": 16,
   "id": "1953945a-4a46-47a0-95bc-70f7efa48c12",
   "metadata": {},
   "outputs": [
    {
     "data": {
      "text/plain": [
       "{'neg': 0.22, 'neu': 0.78, 'pos': 0.0, 'compound': -0.5448}"
      ]
     },
     "execution_count": 16,
     "metadata": {},
     "output_type": "execute_result"
    }
   ],
   "source": [
    "sia.polarity_scores(example)"
   ]
  },
  {
   "cell_type": "code",
   "execution_count": 17,
   "id": "fae3e926-bd60-4f26-a658-fd48faf76d87",
   "metadata": {},
   "outputs": [
    {
     "data": {
      "application/vnd.jupyter.widget-view+json": {
       "model_id": "44e5e4f7c9d34a9dba96c0ae559de92b",
       "version_major": 2,
       "version_minor": 0
      },
      "text/plain": [
       "  0%|          | 0/500 [00:00<?, ?it/s]"
      ]
     },
     "metadata": {},
     "output_type": "display_data"
    }
   ],
   "source": [
    "# entire dataset grab polarity\n",
    "res = {}\n",
    "for i, row in tqdm(df.iterrows(), total=len(df)):\n",
    "                   text = row['Text']\n",
    "                   myid = row['Id']\n",
    "                   res[myid] = sia.polarity_scores(text)\n",
    "                 \n",
    "                   "
   ]
  },
  {
   "cell_type": "code",
   "execution_count": 18,
   "id": "765fb98d-5f03-43c5-8117-687d27055eab",
   "metadata": {},
   "outputs": [
    {
     "data": {
      "text/html": [
       "<div>\n",
       "<style scoped>\n",
       "    .dataframe tbody tr th:only-of-type {\n",
       "        vertical-align: middle;\n",
       "    }\n",
       "\n",
       "    .dataframe tbody tr th {\n",
       "        vertical-align: top;\n",
       "    }\n",
       "\n",
       "    .dataframe thead th {\n",
       "        text-align: right;\n",
       "    }\n",
       "</style>\n",
       "<table border=\"1\" class=\"dataframe\">\n",
       "  <thead>\n",
       "    <tr style=\"text-align: right;\">\n",
       "      <th></th>\n",
       "      <th>neg</th>\n",
       "      <th>neu</th>\n",
       "      <th>pos</th>\n",
       "      <th>compound</th>\n",
       "    </tr>\n",
       "  </thead>\n",
       "  <tbody>\n",
       "    <tr>\n",
       "      <th>1</th>\n",
       "      <td>0.000</td>\n",
       "      <td>0.695</td>\n",
       "      <td>0.305</td>\n",
       "      <td>0.9441</td>\n",
       "    </tr>\n",
       "    <tr>\n",
       "      <th>2</th>\n",
       "      <td>0.138</td>\n",
       "      <td>0.862</td>\n",
       "      <td>0.000</td>\n",
       "      <td>-0.5664</td>\n",
       "    </tr>\n",
       "    <tr>\n",
       "      <th>3</th>\n",
       "      <td>0.091</td>\n",
       "      <td>0.754</td>\n",
       "      <td>0.155</td>\n",
       "      <td>0.8265</td>\n",
       "    </tr>\n",
       "    <tr>\n",
       "      <th>4</th>\n",
       "      <td>0.000</td>\n",
       "      <td>1.000</td>\n",
       "      <td>0.000</td>\n",
       "      <td>0.0000</td>\n",
       "    </tr>\n",
       "    <tr>\n",
       "      <th>5</th>\n",
       "      <td>0.000</td>\n",
       "      <td>0.552</td>\n",
       "      <td>0.448</td>\n",
       "      <td>0.9468</td>\n",
       "    </tr>\n",
       "    <tr>\n",
       "      <th>...</th>\n",
       "      <td>...</td>\n",
       "      <td>...</td>\n",
       "      <td>...</td>\n",
       "      <td>...</td>\n",
       "    </tr>\n",
       "    <tr>\n",
       "      <th>496</th>\n",
       "      <td>0.000</td>\n",
       "      <td>0.554</td>\n",
       "      <td>0.446</td>\n",
       "      <td>0.9725</td>\n",
       "    </tr>\n",
       "    <tr>\n",
       "      <th>497</th>\n",
       "      <td>0.059</td>\n",
       "      <td>0.799</td>\n",
       "      <td>0.142</td>\n",
       "      <td>0.7833</td>\n",
       "    </tr>\n",
       "    <tr>\n",
       "      <th>498</th>\n",
       "      <td>0.025</td>\n",
       "      <td>0.762</td>\n",
       "      <td>0.212</td>\n",
       "      <td>0.9848</td>\n",
       "    </tr>\n",
       "    <tr>\n",
       "      <th>499</th>\n",
       "      <td>0.041</td>\n",
       "      <td>0.904</td>\n",
       "      <td>0.055</td>\n",
       "      <td>0.1280</td>\n",
       "    </tr>\n",
       "    <tr>\n",
       "      <th>500</th>\n",
       "      <td>0.000</td>\n",
       "      <td>0.678</td>\n",
       "      <td>0.322</td>\n",
       "      <td>0.9811</td>\n",
       "    </tr>\n",
       "  </tbody>\n",
       "</table>\n",
       "<p>500 rows × 4 columns</p>\n",
       "</div>"
      ],
      "text/plain": [
       "       neg    neu    pos  compound\n",
       "1    0.000  0.695  0.305    0.9441\n",
       "2    0.138  0.862  0.000   -0.5664\n",
       "3    0.091  0.754  0.155    0.8265\n",
       "4    0.000  1.000  0.000    0.0000\n",
       "5    0.000  0.552  0.448    0.9468\n",
       "..     ...    ...    ...       ...\n",
       "496  0.000  0.554  0.446    0.9725\n",
       "497  0.059  0.799  0.142    0.7833\n",
       "498  0.025  0.762  0.212    0.9848\n",
       "499  0.041  0.904  0.055    0.1280\n",
       "500  0.000  0.678  0.322    0.9811\n",
       "\n",
       "[500 rows x 4 columns]"
      ]
     },
     "execution_count": 18,
     "metadata": {},
     "output_type": "execute_result"
    }
   ],
   "source": [
    "pd.DataFrame(res).T"
   ]
  },
  {
   "cell_type": "code",
   "execution_count": 19,
   "id": "6ed70b65-d335-4efb-9fad-8f22b02c6466",
   "metadata": {},
   "outputs": [],
   "source": [
    "vaders = pd.DataFrame(res).T\n",
    "vaders = vaders.reset_index().rename(columns={'index':\"Id\"})\n",
    "vaders = vaders.merge(df, how='left')"
   ]
  },
  {
   "cell_type": "code",
   "execution_count": 20,
   "id": "01e61278-40d5-4c08-a2d4-b8fe64dc8776",
   "metadata": {},
   "outputs": [
    {
     "data": {
      "text/html": [
       "<div>\n",
       "<style scoped>\n",
       "    .dataframe tbody tr th:only-of-type {\n",
       "        vertical-align: middle;\n",
       "    }\n",
       "\n",
       "    .dataframe tbody tr th {\n",
       "        vertical-align: top;\n",
       "    }\n",
       "\n",
       "    .dataframe thead th {\n",
       "        text-align: right;\n",
       "    }\n",
       "</style>\n",
       "<table border=\"1\" class=\"dataframe\">\n",
       "  <thead>\n",
       "    <tr style=\"text-align: right;\">\n",
       "      <th></th>\n",
       "      <th>Id</th>\n",
       "      <th>neg</th>\n",
       "      <th>neu</th>\n",
       "      <th>pos</th>\n",
       "      <th>compound</th>\n",
       "      <th>ProductId</th>\n",
       "      <th>UserId</th>\n",
       "      <th>ProfileName</th>\n",
       "      <th>HelpfulnessNumerator</th>\n",
       "      <th>HelpfulnessDenominator</th>\n",
       "      <th>Score</th>\n",
       "      <th>Time</th>\n",
       "      <th>Summary</th>\n",
       "      <th>Text</th>\n",
       "    </tr>\n",
       "  </thead>\n",
       "  <tbody>\n",
       "    <tr>\n",
       "      <th>0</th>\n",
       "      <td>1</td>\n",
       "      <td>0.000</td>\n",
       "      <td>0.695</td>\n",
       "      <td>0.305</td>\n",
       "      <td>0.9441</td>\n",
       "      <td>B001E4KFG0</td>\n",
       "      <td>A3SGXH7AUHU8GW</td>\n",
       "      <td>delmartian</td>\n",
       "      <td>1</td>\n",
       "      <td>1</td>\n",
       "      <td>5</td>\n",
       "      <td>1303862400</td>\n",
       "      <td>Good Quality Dog Food</td>\n",
       "      <td>I have bought several of the Vitality canned d...</td>\n",
       "    </tr>\n",
       "    <tr>\n",
       "      <th>1</th>\n",
       "      <td>2</td>\n",
       "      <td>0.138</td>\n",
       "      <td>0.862</td>\n",
       "      <td>0.000</td>\n",
       "      <td>-0.5664</td>\n",
       "      <td>B00813GRG4</td>\n",
       "      <td>A1D87F6ZCVE5NK</td>\n",
       "      <td>dll pa</td>\n",
       "      <td>0</td>\n",
       "      <td>0</td>\n",
       "      <td>1</td>\n",
       "      <td>1346976000</td>\n",
       "      <td>Not as Advertised</td>\n",
       "      <td>Product arrived labeled as Jumbo Salted Peanut...</td>\n",
       "    </tr>\n",
       "    <tr>\n",
       "      <th>2</th>\n",
       "      <td>3</td>\n",
       "      <td>0.091</td>\n",
       "      <td>0.754</td>\n",
       "      <td>0.155</td>\n",
       "      <td>0.8265</td>\n",
       "      <td>B000LQOCH0</td>\n",
       "      <td>ABXLMWJIXXAIN</td>\n",
       "      <td>Natalia Corres \"Natalia Corres\"</td>\n",
       "      <td>1</td>\n",
       "      <td>1</td>\n",
       "      <td>4</td>\n",
       "      <td>1219017600</td>\n",
       "      <td>\"Delight\" says it all</td>\n",
       "      <td>This is a confection that has been around a fe...</td>\n",
       "    </tr>\n",
       "    <tr>\n",
       "      <th>3</th>\n",
       "      <td>4</td>\n",
       "      <td>0.000</td>\n",
       "      <td>1.000</td>\n",
       "      <td>0.000</td>\n",
       "      <td>0.0000</td>\n",
       "      <td>B000UA0QIQ</td>\n",
       "      <td>A395BORC6FGVXV</td>\n",
       "      <td>Karl</td>\n",
       "      <td>3</td>\n",
       "      <td>3</td>\n",
       "      <td>2</td>\n",
       "      <td>1307923200</td>\n",
       "      <td>Cough Medicine</td>\n",
       "      <td>If you are looking for the secret ingredient i...</td>\n",
       "    </tr>\n",
       "    <tr>\n",
       "      <th>4</th>\n",
       "      <td>5</td>\n",
       "      <td>0.000</td>\n",
       "      <td>0.552</td>\n",
       "      <td>0.448</td>\n",
       "      <td>0.9468</td>\n",
       "      <td>B006K2ZZ7K</td>\n",
       "      <td>A1UQRSCLF8GW1T</td>\n",
       "      <td>Michael D. Bigham \"M. Wassir\"</td>\n",
       "      <td>0</td>\n",
       "      <td>0</td>\n",
       "      <td>5</td>\n",
       "      <td>1350777600</td>\n",
       "      <td>Great taffy</td>\n",
       "      <td>Great taffy at a great price.  There was a wid...</td>\n",
       "    </tr>\n",
       "    <tr>\n",
       "      <th>...</th>\n",
       "      <td>...</td>\n",
       "      <td>...</td>\n",
       "      <td>...</td>\n",
       "      <td>...</td>\n",
       "      <td>...</td>\n",
       "      <td>...</td>\n",
       "      <td>...</td>\n",
       "      <td>...</td>\n",
       "      <td>...</td>\n",
       "      <td>...</td>\n",
       "      <td>...</td>\n",
       "      <td>...</td>\n",
       "      <td>...</td>\n",
       "      <td>...</td>\n",
       "    </tr>\n",
       "    <tr>\n",
       "      <th>495</th>\n",
       "      <td>496</td>\n",
       "      <td>0.000</td>\n",
       "      <td>0.554</td>\n",
       "      <td>0.446</td>\n",
       "      <td>0.9725</td>\n",
       "      <td>B000G6RYNE</td>\n",
       "      <td>APGAA43E3WPN7</td>\n",
       "      <td>Darren</td>\n",
       "      <td>0</td>\n",
       "      <td>0</td>\n",
       "      <td>5</td>\n",
       "      <td>1201392000</td>\n",
       "      <td>amazing chips</td>\n",
       "      <td>i rarely eat chips but i saw these and tried t...</td>\n",
       "    </tr>\n",
       "    <tr>\n",
       "      <th>496</th>\n",
       "      <td>497</td>\n",
       "      <td>0.059</td>\n",
       "      <td>0.799</td>\n",
       "      <td>0.142</td>\n",
       "      <td>0.7833</td>\n",
       "      <td>B000G6RYNE</td>\n",
       "      <td>ABR7HU5H1KNE</td>\n",
       "      <td>Keith</td>\n",
       "      <td>0</td>\n",
       "      <td>0</td>\n",
       "      <td>5</td>\n",
       "      <td>1196726400</td>\n",
       "      <td>Best Chip Ever</td>\n",
       "      <td>This is easily the best potato chip that I hav...</td>\n",
       "    </tr>\n",
       "    <tr>\n",
       "      <th>497</th>\n",
       "      <td>498</td>\n",
       "      <td>0.025</td>\n",
       "      <td>0.762</td>\n",
       "      <td>0.212</td>\n",
       "      <td>0.9848</td>\n",
       "      <td>B000G6RYNE</td>\n",
       "      <td>AJQD2WWJYOYFQ</td>\n",
       "      <td>bubbles</td>\n",
       "      <td>0</td>\n",
       "      <td>0</td>\n",
       "      <td>4</td>\n",
       "      <td>1186617600</td>\n",
       "      <td>Tangy, spicy, and sweet- oh my!</td>\n",
       "      <td>Kettle Chips Spicy Thai potato chips have the ...</td>\n",
       "    </tr>\n",
       "    <tr>\n",
       "      <th>498</th>\n",
       "      <td>499</td>\n",
       "      <td>0.041</td>\n",
       "      <td>0.904</td>\n",
       "      <td>0.055</td>\n",
       "      <td>0.1280</td>\n",
       "      <td>B000G6RYNE</td>\n",
       "      <td>A16YH487W9ZYO0</td>\n",
       "      <td>Bruce G. Lindsay</td>\n",
       "      <td>0</td>\n",
       "      <td>0</td>\n",
       "      <td>4</td>\n",
       "      <td>1184198400</td>\n",
       "      <td>An indulgence with a bite</td>\n",
       "      <td>Okay, I should not eat potato chips, nor shoul...</td>\n",
       "    </tr>\n",
       "    <tr>\n",
       "      <th>499</th>\n",
       "      <td>500</td>\n",
       "      <td>0.000</td>\n",
       "      <td>0.678</td>\n",
       "      <td>0.322</td>\n",
       "      <td>0.9811</td>\n",
       "      <td>B000G6RYNE</td>\n",
       "      <td>A83YQC1XOU4CS</td>\n",
       "      <td>J. Baker</td>\n",
       "      <td>0</td>\n",
       "      <td>0</td>\n",
       "      <td>5</td>\n",
       "      <td>1183420800</td>\n",
       "      <td>The best I've had</td>\n",
       "      <td>I don't write very many reviews but I have to ...</td>\n",
       "    </tr>\n",
       "  </tbody>\n",
       "</table>\n",
       "<p>500 rows × 14 columns</p>\n",
       "</div>"
      ],
      "text/plain": [
       "      Id    neg    neu    pos  compound   ProductId          UserId  \\\n",
       "0      1  0.000  0.695  0.305    0.9441  B001E4KFG0  A3SGXH7AUHU8GW   \n",
       "1      2  0.138  0.862  0.000   -0.5664  B00813GRG4  A1D87F6ZCVE5NK   \n",
       "2      3  0.091  0.754  0.155    0.8265  B000LQOCH0   ABXLMWJIXXAIN   \n",
       "3      4  0.000  1.000  0.000    0.0000  B000UA0QIQ  A395BORC6FGVXV   \n",
       "4      5  0.000  0.552  0.448    0.9468  B006K2ZZ7K  A1UQRSCLF8GW1T   \n",
       "..   ...    ...    ...    ...       ...         ...             ...   \n",
       "495  496  0.000  0.554  0.446    0.9725  B000G6RYNE   APGAA43E3WPN7   \n",
       "496  497  0.059  0.799  0.142    0.7833  B000G6RYNE    ABR7HU5H1KNE   \n",
       "497  498  0.025  0.762  0.212    0.9848  B000G6RYNE   AJQD2WWJYOYFQ   \n",
       "498  499  0.041  0.904  0.055    0.1280  B000G6RYNE  A16YH487W9ZYO0   \n",
       "499  500  0.000  0.678  0.322    0.9811  B000G6RYNE   A83YQC1XOU4CS   \n",
       "\n",
       "                         ProfileName  HelpfulnessNumerator  \\\n",
       "0                         delmartian                     1   \n",
       "1                             dll pa                     0   \n",
       "2    Natalia Corres \"Natalia Corres\"                     1   \n",
       "3                               Karl                     3   \n",
       "4      Michael D. Bigham \"M. Wassir\"                     0   \n",
       "..                               ...                   ...   \n",
       "495                           Darren                     0   \n",
       "496                            Keith                     0   \n",
       "497                          bubbles                     0   \n",
       "498                 Bruce G. Lindsay                     0   \n",
       "499                         J. Baker                     0   \n",
       "\n",
       "     HelpfulnessDenominator  Score        Time  \\\n",
       "0                         1      5  1303862400   \n",
       "1                         0      1  1346976000   \n",
       "2                         1      4  1219017600   \n",
       "3                         3      2  1307923200   \n",
       "4                         0      5  1350777600   \n",
       "..                      ...    ...         ...   \n",
       "495                       0      5  1201392000   \n",
       "496                       0      5  1196726400   \n",
       "497                       0      4  1186617600   \n",
       "498                       0      4  1184198400   \n",
       "499                       0      5  1183420800   \n",
       "\n",
       "                             Summary  \\\n",
       "0              Good Quality Dog Food   \n",
       "1                  Not as Advertised   \n",
       "2              \"Delight\" says it all   \n",
       "3                     Cough Medicine   \n",
       "4                        Great taffy   \n",
       "..                               ...   \n",
       "495                    amazing chips   \n",
       "496                   Best Chip Ever   \n",
       "497  Tangy, spicy, and sweet- oh my!   \n",
       "498        An indulgence with a bite   \n",
       "499                The best I've had   \n",
       "\n",
       "                                                  Text  \n",
       "0    I have bought several of the Vitality canned d...  \n",
       "1    Product arrived labeled as Jumbo Salted Peanut...  \n",
       "2    This is a confection that has been around a fe...  \n",
       "3    If you are looking for the secret ingredient i...  \n",
       "4    Great taffy at a great price.  There was a wid...  \n",
       "..                                                 ...  \n",
       "495  i rarely eat chips but i saw these and tried t...  \n",
       "496  This is easily the best potato chip that I hav...  \n",
       "497  Kettle Chips Spicy Thai potato chips have the ...  \n",
       "498  Okay, I should not eat potato chips, nor shoul...  \n",
       "499  I don't write very many reviews but I have to ...  \n",
       "\n",
       "[500 rows x 14 columns]"
      ]
     },
     "execution_count": 20,
     "metadata": {},
     "output_type": "execute_result"
    }
   ],
   "source": [
    "vaders"
   ]
  },
  {
   "cell_type": "code",
   "execution_count": 21,
   "id": "f0f66163-0a24-4088-9eeb-e9e09a868dec",
   "metadata": {},
   "outputs": [
    {
     "data": {
      "text/html": [
       "<div>\n",
       "<style scoped>\n",
       "    .dataframe tbody tr th:only-of-type {\n",
       "        vertical-align: middle;\n",
       "    }\n",
       "\n",
       "    .dataframe tbody tr th {\n",
       "        vertical-align: top;\n",
       "    }\n",
       "\n",
       "    .dataframe thead th {\n",
       "        text-align: right;\n",
       "    }\n",
       "</style>\n",
       "<table border=\"1\" class=\"dataframe\">\n",
       "  <thead>\n",
       "    <tr style=\"text-align: right;\">\n",
       "      <th></th>\n",
       "      <th>Id</th>\n",
       "      <th>neg</th>\n",
       "      <th>neu</th>\n",
       "      <th>pos</th>\n",
       "      <th>compound</th>\n",
       "      <th>ProductId</th>\n",
       "      <th>UserId</th>\n",
       "      <th>ProfileName</th>\n",
       "      <th>HelpfulnessNumerator</th>\n",
       "      <th>HelpfulnessDenominator</th>\n",
       "      <th>Score</th>\n",
       "      <th>Time</th>\n",
       "      <th>Summary</th>\n",
       "      <th>Text</th>\n",
       "    </tr>\n",
       "  </thead>\n",
       "  <tbody>\n",
       "    <tr>\n",
       "      <th>0</th>\n",
       "      <td>1</td>\n",
       "      <td>0.000</td>\n",
       "      <td>0.695</td>\n",
       "      <td>0.305</td>\n",
       "      <td>0.9441</td>\n",
       "      <td>B001E4KFG0</td>\n",
       "      <td>A3SGXH7AUHU8GW</td>\n",
       "      <td>delmartian</td>\n",
       "      <td>1</td>\n",
       "      <td>1</td>\n",
       "      <td>5</td>\n",
       "      <td>1303862400</td>\n",
       "      <td>Good Quality Dog Food</td>\n",
       "      <td>I have bought several of the Vitality canned d...</td>\n",
       "    </tr>\n",
       "    <tr>\n",
       "      <th>1</th>\n",
       "      <td>2</td>\n",
       "      <td>0.138</td>\n",
       "      <td>0.862</td>\n",
       "      <td>0.000</td>\n",
       "      <td>-0.5664</td>\n",
       "      <td>B00813GRG4</td>\n",
       "      <td>A1D87F6ZCVE5NK</td>\n",
       "      <td>dll pa</td>\n",
       "      <td>0</td>\n",
       "      <td>0</td>\n",
       "      <td>1</td>\n",
       "      <td>1346976000</td>\n",
       "      <td>Not as Advertised</td>\n",
       "      <td>Product arrived labeled as Jumbo Salted Peanut...</td>\n",
       "    </tr>\n",
       "    <tr>\n",
       "      <th>2</th>\n",
       "      <td>3</td>\n",
       "      <td>0.091</td>\n",
       "      <td>0.754</td>\n",
       "      <td>0.155</td>\n",
       "      <td>0.8265</td>\n",
       "      <td>B000LQOCH0</td>\n",
       "      <td>ABXLMWJIXXAIN</td>\n",
       "      <td>Natalia Corres \"Natalia Corres\"</td>\n",
       "      <td>1</td>\n",
       "      <td>1</td>\n",
       "      <td>4</td>\n",
       "      <td>1219017600</td>\n",
       "      <td>\"Delight\" says it all</td>\n",
       "      <td>This is a confection that has been around a fe...</td>\n",
       "    </tr>\n",
       "    <tr>\n",
       "      <th>3</th>\n",
       "      <td>4</td>\n",
       "      <td>0.000</td>\n",
       "      <td>1.000</td>\n",
       "      <td>0.000</td>\n",
       "      <td>0.0000</td>\n",
       "      <td>B000UA0QIQ</td>\n",
       "      <td>A395BORC6FGVXV</td>\n",
       "      <td>Karl</td>\n",
       "      <td>3</td>\n",
       "      <td>3</td>\n",
       "      <td>2</td>\n",
       "      <td>1307923200</td>\n",
       "      <td>Cough Medicine</td>\n",
       "      <td>If you are looking for the secret ingredient i...</td>\n",
       "    </tr>\n",
       "    <tr>\n",
       "      <th>4</th>\n",
       "      <td>5</td>\n",
       "      <td>0.000</td>\n",
       "      <td>0.552</td>\n",
       "      <td>0.448</td>\n",
       "      <td>0.9468</td>\n",
       "      <td>B006K2ZZ7K</td>\n",
       "      <td>A1UQRSCLF8GW1T</td>\n",
       "      <td>Michael D. Bigham \"M. Wassir\"</td>\n",
       "      <td>0</td>\n",
       "      <td>0</td>\n",
       "      <td>5</td>\n",
       "      <td>1350777600</td>\n",
       "      <td>Great taffy</td>\n",
       "      <td>Great taffy at a great price.  There was a wid...</td>\n",
       "    </tr>\n",
       "  </tbody>\n",
       "</table>\n",
       "</div>"
      ],
      "text/plain": [
       "   Id    neg    neu    pos  compound   ProductId          UserId  \\\n",
       "0   1  0.000  0.695  0.305    0.9441  B001E4KFG0  A3SGXH7AUHU8GW   \n",
       "1   2  0.138  0.862  0.000   -0.5664  B00813GRG4  A1D87F6ZCVE5NK   \n",
       "2   3  0.091  0.754  0.155    0.8265  B000LQOCH0   ABXLMWJIXXAIN   \n",
       "3   4  0.000  1.000  0.000    0.0000  B000UA0QIQ  A395BORC6FGVXV   \n",
       "4   5  0.000  0.552  0.448    0.9468  B006K2ZZ7K  A1UQRSCLF8GW1T   \n",
       "\n",
       "                       ProfileName  HelpfulnessNumerator  \\\n",
       "0                       delmartian                     1   \n",
       "1                           dll pa                     0   \n",
       "2  Natalia Corres \"Natalia Corres\"                     1   \n",
       "3                             Karl                     3   \n",
       "4    Michael D. Bigham \"M. Wassir\"                     0   \n",
       "\n",
       "   HelpfulnessDenominator  Score        Time                Summary  \\\n",
       "0                       1      5  1303862400  Good Quality Dog Food   \n",
       "1                       0      1  1346976000      Not as Advertised   \n",
       "2                       1      4  1219017600  \"Delight\" says it all   \n",
       "3                       3      2  1307923200         Cough Medicine   \n",
       "4                       0      5  1350777600            Great taffy   \n",
       "\n",
       "                                                Text  \n",
       "0  I have bought several of the Vitality canned d...  \n",
       "1  Product arrived labeled as Jumbo Salted Peanut...  \n",
       "2  This is a confection that has been around a fe...  \n",
       "3  If you are looking for the secret ingredient i...  \n",
       "4  Great taffy at a great price.  There was a wid...  "
      ]
     },
     "execution_count": 21,
     "metadata": {},
     "output_type": "execute_result"
    }
   ],
   "source": [
    "vaders.head()"
   ]
  },
  {
   "cell_type": "code",
   "execution_count": 22,
   "id": "b816a75e-de65-4e42-8031-3f4cf6d876d5",
   "metadata": {},
   "outputs": [
    {
     "data": {
      "image/png": "[encoded data removed]",
      "text/plain": [
       "<Figure size 432x288 with 1 Axes>"
      ]
     },
     "metadata": {},
     "output_type": "display_data"
    }
   ],
   "source": [
    "# making assumption  of data assumptiom\n",
    "# vaders plot\n",
    "ax=sns.barplot(data=vaders, x='Score',y='compound')\n",
    "ax.set_title(\"compound scores by star reviews\")\n",
    "plt.show()"
   ]
  },
  {
   "cell_type": "code",
   "execution_count": 23,
   "id": "43835068-bd3c-4d63-897a-80adca7b545c",
   "metadata": {},
   "outputs": [
    {
     "data": {
      "image/png": "[encoded data removed]",
      "text/plain": [
       "<Figure size 864x360 with 3 Axes>"
      ]
     },
     "metadata": {},
     "output_type": "display_data"
    }
   ],
   "source": [
    "\n",
    "fig, axs= plt.subplots(1,3, figsize=(12,5))\n",
    "sns.barplot(data=vaders, x='Score',y='pos',  ax=axs[0])\n",
    "sns.barplot(data=vaders, x='Score',y='neu',  ax=axs[1])\n",
    "sns.barplot(data=vaders, x='Score',y='neg',  ax=axs[2])\n",
    "axs[0].set_title(\"Positive\")\n",
    "axs[1].set_title(\"Neutral\")\n",
    "axs[2].set_title(\"Negative\")\n",
    "plt.tight_layout()\n",
    "plt.show()"
   ]
  },
  {
   "cell_type": "code",
   "execution_count": null,
   "id": "a791a9fd-81b1-4a40-929b-7093fe4ae1e1",
   "metadata": {},
   "outputs": [],
   "source": []
  },
  {
   "cell_type": "code",
   "execution_count": 1,
   "id": "03eba0a8-3469-464a-a340-cbeb4bf17c9b",
   "metadata": {},
   "outputs": [
    {
     "name": "stdout",
     "output_type": "stream",
     "text": [
      "Requirement already satisfied: accelerate in /Users/sovitnayak/opt/anaconda3/lib/python3.9/site-packages (0.27.2)\n",
      "Requirement already satisfied: psutil in /Users/sovitnayak/opt/anaconda3/lib/python3.9/site-packages (from accelerate) (5.8.0)\n",
      "Requirement already satisfied: safetensors>=0.3.1 in /Users/sovitnayak/opt/anaconda3/lib/python3.9/site-packages (from accelerate) (0.4.2)\n",
      "Requirement already satisfied: huggingface-hub in /Users/sovitnayak/opt/anaconda3/lib/python3.9/site-packages (from accelerate) (0.21.4)\n",
      "Requirement already satisfied: numpy>=1.17 in /Users/sovitnayak/opt/anaconda3/lib/python3.9/site-packages (from accelerate) (1.21.5)\n",
      "Requirement already satisfied: pyyaml in /Users/sovitnayak/opt/anaconda3/lib/python3.9/site-packages (from accelerate) (6.0)\n",
      "Requirement already satisfied: packaging>=20.0 in /Users/sovitnayak/opt/anaconda3/lib/python3.9/site-packages (from accelerate) (21.3)\n",
      "Requirement already satisfied: torch>=1.10.0 in /Users/sovitnayak/opt/anaconda3/lib/python3.9/site-packages (from accelerate) (2.2.1)\n",
      "Requirement already satisfied: pyparsing!=3.0.5,>=2.0.2 in /Users/sovitnayak/opt/anaconda3/lib/python3.9/site-packages (from packaging>=20.0->accelerate) (3.0.4)\n",
      "Requirement already satisfied: filelock in /Users/sovitnayak/opt/anaconda3/lib/python3.9/site-packages (from torch>=1.10.0->accelerate) (3.6.0)\n",
      "Requirement already satisfied: typing-extensions>=4.8.0 in /Users/sovitnayak/opt/anaconda3/lib/python3.9/site-packages (from torch>=1.10.0->accelerate) (4.10.0)\n",
      "Requirement already satisfied: sympy in /Users/sovitnayak/opt/anaconda3/lib/python3.9/site-packages (from torch>=1.10.0->accelerate) (1.10.1)\n",
      "Requirement already satisfied: networkx in /Users/sovitnayak/opt/anaconda3/lib/python3.9/site-packages (from torch>=1.10.0->accelerate) (2.7.1)\n",
      "Requirement already satisfied: jinja2 in /Users/sovitnayak/opt/anaconda3/lib/python3.9/site-packages (from torch>=1.10.0->accelerate) (2.11.3)\n",
      "Requirement already satisfied: fsspec in /Users/sovitnayak/opt/anaconda3/lib/python3.9/site-packages (from torch>=1.10.0->accelerate) (2024.2.0)\n",
      "Requirement already satisfied: requests in /Users/sovitnayak/opt/anaconda3/lib/python3.9/site-packages (from huggingface-hub->accelerate) (2.27.1)\n",
      "Requirement already satisfied: tqdm>=4.42.1 in /Users/sovitnayak/opt/anaconda3/lib/python3.9/site-packages (from huggingface-hub->accelerate) (4.64.0)\n",
      "Requirement already satisfied: MarkupSafe>=0.23 in /Users/sovitnayak/opt/anaconda3/lib/python3.9/site-packages (from jinja2->torch>=1.10.0->accelerate) (2.0.1)\n",
      "Requirement already satisfied: certifi>=2017.4.17 in /Users/sovitnayak/opt/anaconda3/lib/python3.9/site-packages (from requests->huggingface-hub->accelerate) (2024.2.2)\n",
      "Requirement already satisfied: charset-normalizer~=2.0.0 in /Users/sovitnayak/opt/anaconda3/lib/python3.9/site-packages (from requests->huggingface-hub->accelerate) (2.0.4)\n",
      "Requirement already satisfied: urllib3<1.27,>=1.21.1 in /Users/sovitnayak/opt/anaconda3/lib/python3.9/site-packages (from requests->huggingface-hub->accelerate) (1.26.9)\n",
      "Requirement already satisfied: idna<4,>=2.5 in /Users/sovitnayak/opt/anaconda3/lib/python3.9/site-packages (from requests->huggingface-hub->accelerate) (3.3)\n",
      "Requirement already satisfied: mpmath>=0.19 in /Users/sovitnayak/opt/anaconda3/lib/python3.9/site-packages (from sympy->torch>=1.10.0->accelerate) (1.2.1)\n",
      "Note: you may need to restart the kernel to use updated packages.\n"
     ]
    }
   ],
   "source": [
    "pip install --upgrade accelerate"
   ]
  },
  {
   "cell_type": "code",
   "execution_count": null,
   "id": "1344ab45-d6f1-4bcd-bb52-ce74ba36d080",
   "metadata": {},
   "outputs": [],
   "source": [
    "from transformers import AutoTokenizer\n",
    "from transformers import AutoModelForSequenceClassification\n",
    "from scipy.special import softmax"
   ]
  },
  {
   "cell_type": "code",
   "execution_count": 1,
   "id": "5f9a073b-1008-4c04-98ba-f2279c8f2846",
   "metadata": {},
   "outputs": [
    {
     "ename": "NameError",
     "evalue": "name 'AutoTokenizer' is not defined",
     "output_type": "error",
     "traceback": [
      "\u001b[0;31m---------------------------------------------------------------------------\u001b[0m",
      "\u001b[0;31mNameError\u001b[0m                                 Traceback (most recent call last)",
      "Input \u001b[0;32mIn [1]\u001b[0m, in \u001b[0;36m<cell line: 2>\u001b[0;34m()\u001b[0m\n\u001b[1;32m      1\u001b[0m MODEL \u001b[38;5;241m=\u001b[39m \u001b[38;5;124mf\u001b[39m\u001b[38;5;124m\"\u001b[39m\u001b[38;5;124mcardiffnlp/twitter-roberta-base-sentiment\u001b[39m\u001b[38;5;124m\"\u001b[39m\n\u001b[0;32m----> 2\u001b[0m tokenizer \u001b[38;5;241m=\u001b[39m \u001b[43mAutoTokenizer\u001b[49m\u001b[38;5;241m.\u001b[39mfrom_pretrained(MODEL)\n\u001b[1;32m      3\u001b[0m model \u001b[38;5;241m=\u001b[39m AutoModelForSequenceClassification\u001b[38;5;241m.\u001b[39mfrom_pretrained(MODEL)\n",
      "\u001b[0;31mNameError\u001b[0m: name 'AutoTokenizer' is not defined"
     ]
    }
   ],
   "source": [
    "MODEL = f\"cardiffnlp/twitter-roberta-base-sentiment\"\n",
    "tokenizer = AutoTokenizer.from_pretrained(MODEL)\n",
    "model = AutoModelForSequenceClassification.from_pretrained(MODEL)"
   ]
  },
  {
   "cell_type": "code",
   "execution_count": 2,
   "id": "8c28e737-4dba-4d52-b4c2-0d0d932277e4",
   "metadata": {},
   "outputs": [
    {
     "ename": "NameError",
     "evalue": "name 'example' is not defined",
     "output_type": "error",
     "traceback": [
      "\u001b[0;31m---------------------------------------------------------------------------\u001b[0m",
      "\u001b[0;31mNameError\u001b[0m                                 Traceback (most recent call last)",
      "Input \u001b[0;32mIn [2]\u001b[0m, in \u001b[0;36m<cell line: 1>\u001b[0;34m()\u001b[0m\n\u001b[0;32m----> 1\u001b[0m \u001b[38;5;28mprint\u001b[39m(\u001b[43mexample\u001b[49m)\n\u001b[1;32m      2\u001b[0m sia\u001b[38;5;241m.\u001b[39mpolarity_scores(example)\n",
      "\u001b[0;31mNameError\u001b[0m: name 'example' is not defined"
     ]
    }
   ],
   "source": [
    "print(example)\n",
    "sia.polarity_scores(example)"
   ]
  },
  {
   "cell_type": "code",
   "execution_count": null,
   "id": "b67616bc-8a4b-49a3-9c39-27250d388ee9",
   "metadata": {},
   "outputs": [],
   "source": [
    "# Run for Roberta Model\n",
    "encoded_text = tokenizer(example, return_tensors='pt')\n",
    "output = model(**encoded_text)\n",
    "scores = output[0][0].detach().numpy()\n",
    "scores = softmax(scores)\n",
    "scores_dict = {\n",
    "    'roberta_neg' : scores[0],\n",
    "    'roberta_neu' : scores[1],\n",
    "    'roberta_pos' : scores[2]\n",
    "}\n",
    "print(scores_dict)"
   ]
  },
  {
   "cell_type": "code",
   "execution_count": null,
   "id": "0bd91486-bbf7-4396-9f81-2081b639aa1f",
   "metadata": {},
   "outputs": [],
   "source": [
    "def polarity_scores_roberta(example):\n",
    "    encoded_text = tokenizer(example, return_tensors='pt')\n",
    "    output = model(**encoded_text)\n",
    "    scores = output[0][0].detach().numpy()\n",
    "    scores = softmax(scores)\n",
    "    scores_dict = {\n",
    "        'roberta_neg' : scores[0],\n",
    "        'roberta_neu' : scores[1],\n",
    "        'roberta_pos' : scores[2]\n",
    "    }\n",
    "    return scores_dict"
   ]
  },
  {
   "cell_type": "code",
   "execution_count": null,
   "id": "be6ce1ba-a157-4486-89e4-8371ef8f44a5",
   "metadata": {},
   "outputs": [],
   "source": [
    "res = {}\n",
    "for i, row in tqdm(df.iterrows(), total=len(df)):\n",
    "    try:\n",
    "        text = row['Text']\n",
    "        myid = row['Id']\n",
    "        vader_result = sia.polarity_scores(text)\n",
    "        vader_result_rename = {}\n",
    "        for key, value in vader_result.items():\n",
    "            vader_result_rename[f\"vader_{key}\"] = value\n",
    "        roberta_result = polarity_scores_roberta(text)\n",
    "        both = {**vader_result_rename, **roberta_result}\n",
    "        res[myid] = both\n",
    "    except RuntimeError:\n",
    "        print(f'Broke for id {myid}')"
   ]
  },
  {
   "cell_type": "code",
   "execution_count": null,
   "id": "914723e2-5d14-4e4b-8f22-e4b18e50205f",
   "metadata": {},
   "outputs": [],
   "source": [
    "results_df = pd.DataFrame(res).T\n",
    "results_df = results_df.reset_index().rename(columns={'index': 'Id'})\n",
    "results_df = results_df.merge(df, how='left')"
   ]
  },
  {
   "cell_type": "code",
   "execution_count": null,
   "id": "28833f22-ebbd-46af-8977-94ae381e237f",
   "metadata": {},
   "outputs": [],
   "source": [
    "results_df.columns"
   ]
  },
  {
   "cell_type": "code",
   "execution_count": null,
   "id": "c0b0ef7f-3482-4a3c-8924-6609b9280660",
   "metadata": {},
   "outputs": [],
   "source": [
    "sns.pairplot(data=results_df,\n",
    "             vars=['vader_neg', 'vader_neu', 'vader_pos',\n",
    "                  'roberta_neg', 'roberta_neu', 'roberta_pos'],\n",
    "            hue='Score',\n",
    "            palette='tab10')\n",
    "plt.show()"
   ]
  },
  {
   "cell_type": "code",
   "execution_count": null,
   "id": "1acef23a-c9e0-4f22-b58f-b928217af426",
   "metadata": {},
   "outputs": [],
   "source": []
  },
  {
   "cell_type": "code",
   "execution_count": null,
   "id": "8ba1c316-f2a9-4aae-b704-890a55682006",
   "metadata": {},
   "outputs": [],
   "source": [
    "results_df.query('Score == 1') \\\n",
    "    .sort_values('roberta_pos', ascending=False)['Text'].values[0]"
   ]
  },
  {
   "cell_type": "code",
   "execution_count": null,
   "id": "5cf4a26d-8a41-435f-8c9b-a80549603a8f",
   "metadata": {},
   "outputs": [],
   "source": [
    "results_df.query('Score == 1') \\\n",
    "    .sort_values('vader_pos', ascending=False)['Text'].values[0]"
   ]
  },
  {
   "cell_type": "code",
   "execution_count": null,
   "id": "01a0dbf0-0659-4a1c-a31d-53af9c0b0ac7",
   "metadata": {},
   "outputs": [],
   "source": []
  },
  {
   "cell_type": "code",
   "execution_count": null,
   "id": "d58f30ec-98d9-4225-a5db-76fdb3f4ced7",
   "metadata": {},
   "outputs": [],
   "source": [
    "results_df.query('Score == 5') \\\n",
    "    .sort_values('roberta_neg', ascending=False)['Text'].values[0]"
   ]
  },
  {
   "cell_type": "code",
   "execution_count": null,
   "id": "3ae964f4-66a7-438a-9e6a-536afbffe821",
   "metadata": {},
   "outputs": [],
   "source": [
    "results_df.query('Score == 5') \\\n",
    "    .sort_values('vader_neg', ascending=False)['Text'].values[0]"
   ]
  },
  {
   "cell_type": "code",
   "execution_count": null,
   "id": "1e6004c6-fef6-4cee-a336-914b82f1c66c",
   "metadata": {},
   "outputs": [],
   "source": []
  },
  {
   "cell_type": "code",
   "execution_count": null,
   "id": "9c31c170-f999-41ff-9716-80ab72e3dc64",
   "metadata": {},
   "outputs": [],
   "source": [
    "from transformers import pipeline\n",
    "\n",
    "sent_pipeline = pipeline(\"sentiment-analysis\")"
   ]
  },
  {
   "cell_type": "code",
   "execution_count": null,
   "id": "1b6fec9a-0ef3-46df-a3ce-93fafa5adf4e",
   "metadata": {},
   "outputs": [],
   "source": []
  },
  {
   "cell_type": "code",
   "execution_count": null,
   "id": "0ab00f6f-7101-489f-a156-961a6b67acc6",
   "metadata": {},
   "outputs": [],
   "source": [
    "sent_pipeline('I love sentiment analysis!')"
   ]
  },
  {
   "cell_type": "code",
   "execution_count": null,
   "id": "87d3455a-32a8-4007-9b4d-017c9b02ff98",
   "metadata": {},
   "outputs": [],
   "source": []
  },
  {
   "cell_type": "code",
   "execution_count": null,
   "id": "10a99899-16c3-42a0-9fa0-683140111c36",
   "metadata": {},
   "outputs": [],
   "source": [
    "sent_pipeline('Make sure to like and subscribe!')"
   ]
  },
  {
   "cell_type": "code",
   "execution_count": null,
   "id": "d10f61de-e389-4eca-b20b-01621ad938f3",
   "metadata": {},
   "outputs": [],
   "source": []
  },
  {
   "cell_type": "code",
   "execution_count": null,
   "id": "055a6438-6f82-4371-bb75-1773213c35ee",
   "metadata": {},
   "outputs": [],
   "source": [
    "sent_pipeline('booo')"
   ]
  }
 ],
 "metadata": {
  "kernelspec": {
   "display_name": "Python 3 (ipykernel)",
   "language": "python",
   "name": "python3"
  },
  "language_info": {
   "codemirror_mode": {
    "name": "ipython",
    "version": 3
   },
   "file_extension": ".py",
   "mimetype": "text/x-python",
   "name": "python",
   "nbconvert_exporter": "python",
   "pygments_lexer": "ipython3",
   "version": "3.9.12"
  }
 },
 "nbformat": 4,
 "nbformat_minor": 5
}
